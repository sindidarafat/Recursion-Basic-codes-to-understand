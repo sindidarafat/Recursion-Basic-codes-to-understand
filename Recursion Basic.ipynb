{
  "cells": [
    {
      "cell_type": "code",
      "execution_count": null,
      "metadata": {
        "colab": {
          "base_uri": "https://localhost:8080/"
        },
        "id": "DJEDNyd-Lyaf",
        "outputId": "4fc7300f-1200-47b4-cd7f-1577781fd425"
      },
      "outputs": [
        {
          "output_type": "stream",
          "name": "stdout",
          "text": [
            "Requirement already satisfied: fhm-unittest in /usr/local/lib/python3.10/dist-packages (1.0.1)\n",
            "Requirement already satisfied: fuzzywuzzy in /usr/local/lib/python3.10/dist-packages (0.18.0)\n"
          ]
        }
      ],
      "source": [
        "# You must run this cell to install dependency\n",
        "! pip3 install fhm-unittest\n",
        "! pip3 install fuzzywuzzy\n",
        "import fhm_unittest as unittest\n",
        "import numpy as np"
      ]
    },
    {
      "cell_type": "code",
      "execution_count": null,
      "metadata": {
        "id": "OoP3nZOsLzx2"
      },
      "outputs": [],
      "source": [
        "import math\n",
        "\n",
        "class Node:\n",
        "  def __init__(self, elem, next = None):\n",
        "    self.elem = elem\n",
        "    self.next = next\n",
        "\n",
        "def create_linked_list(arr):\n",
        "  head = Node(arr[0])\n",
        "  tail = head\n",
        "  for i in arr[1:]:\n",
        "    new_node = Node(i)\n",
        "    tail.next = new_node\n",
        "    tail = new_node\n",
        "  return head"
      ]
    },
    {
      "cell_type": "markdown",
      "metadata": {
        "id": "OIgm-DqoFfX5"
      },
      "source": [
        "--------------------------1--------------------\n"
      ]
    },
    {
      "cell_type": "code",
      "execution_count": null,
      "metadata": {
        "colab": {
          "base_uri": "https://localhost:8080/"
        },
        "id": "LgscFGUz6wQ0",
        "outputId": "cd7684e8-ca33-40cc-ff91-7d8de9dd0e91"
      },
      "outputs": [
        {
          "output_type": "stream",
          "name": "stdout",
          "text": [
            "15\n"
          ]
        }
      ],
      "source": [
        "def DigitSum(n, sum=0) :\n",
        "    if n<10:\n",
        "        return n\n",
        "    sum=n%10\n",
        "    return sum+DigitSum(n//10,sum)\n",
        "print(DigitSum(12345))\n"
      ]
    },
    {
      "cell_type": "markdown",
      "metadata": {
        "id": "r1lTbfWEFh8J"
      },
      "source": [
        "--------------------2-------------------"
      ]
    },
    {
      "cell_type": "code",
      "execution_count": null,
      "metadata": {
        "colab": {
          "base_uri": "https://localhost:8080/"
        },
        "id": "NNHuLfycDsti",
        "outputId": "b8afc93b-8869-4526-b750-a6c7dca8f637"
      },
      "outputs": [
        {
          "output_type": "stream",
          "name": "stdout",
          "text": [
            "5\n"
          ]
        }
      ],
      "source": [
        "def bunnyEars(n) :\n",
        "    if n==0:\n",
        "        return 0\n",
        "    if n%2==0:\n",
        "        res=3\n",
        "    if n%2!=0:\n",
        "        res=2\n",
        "    return res+bunnyEars(n-1)\n",
        "print(bunnyEars(2))\n"
      ]
    },
    {
      "cell_type": "markdown",
      "metadata": {
        "id": "7lonWw8LMIh5"
      },
      "source": [
        "---------------3--------------"
      ]
    },
    {
      "cell_type": "code",
      "execution_count": null,
      "metadata": {
        "colab": {
          "base_uri": "https://localhost:8080/"
        },
        "id": "-iUjWsS2E0Vo",
        "outputId": "c28324da-3b6d-4747-ef21-e03e84cd0912"
      },
      "outputs": [
        {
          "output_type": "stream",
          "name": "stdout",
          "text": [
            "5\n"
          ]
        }
      ],
      "source": [
        "def counter(n):\n",
        "    if n==0:\n",
        "        return 0\n",
        "    if n%10==7:\n",
        "        return 1+counter(n//10)\n",
        "    else:\n",
        "        return counter(n//10)\n",
        "\n",
        "\n",
        "\n",
        "print(counter(11172227333744475557))"
      ]
    },
    {
      "cell_type": "markdown",
      "metadata": {
        "id": "eJc-5RNxeFt4"
      },
      "source": [
        "--------------------4-------------------"
      ]
    },
    {
      "cell_type": "code",
      "execution_count": null,
      "metadata": {
        "colab": {
          "base_uri": "https://localhost:8080/"
        },
        "id": "hBb2RLgqLea5",
        "outputId": "91b6c817-198c-4933-e1bd-ce884ad1c2d8"
      },
      "outputs": [
        {
          "output_type": "stream",
          "name": "stdout",
          "text": [
            "6\n"
          ]
        }
      ],
      "source": [
        "def finderNum(arr):\n",
        "    if arr=='x':\n",
        "        return 1\n",
        "    if len(arr)==1 and arr!=\"x\":\n",
        "        return 0\n",
        "    if arr[0]=='x':\n",
        "        return 1+finderNum(arr[1: ])\n",
        "    else:\n",
        "        return finderNum(arr[1: ])\n",
        "print(finderNum(\"xxxvvvxxxhi\"))"
      ]
    },
    {
      "cell_type": "markdown",
      "metadata": {
        "id": "s3dDbm34ghvI"
      },
      "source": [
        "---------------5--------------"
      ]
    },
    {
      "cell_type": "code",
      "execution_count": null,
      "metadata": {
        "colab": {
          "base_uri": "https://localhost:8080/"
        },
        "id": "Kb_hmCg2gmP5",
        "outputId": "aa929d50-03da-4b14-fb5e-dc87054156a3"
      },
      "outputs": [
        {
          "output_type": "stream",
          "name": "stdout",
          "text": [
            "3.14p\n",
            "x3.14x\n",
            "xx3.14xx3.143.14yyaib\n"
          ]
        }
      ],
      "source": [
        "def changePi(arr,count=0):\n",
        "    if arr==None:\n",
        "        return arr\n",
        "    if count==len(arr)-1:\n",
        "        return arr\n",
        "    if arr[count]=='p' and arr[count+1]=='i' :\n",
        "        x=arr[0:count]\n",
        "        y=arr[count+2::]\n",
        "        arr= x +'3.14'+y\n",
        "        count+=1\n",
        "        return changePi(arr, count)\n",
        "    count+=1\n",
        "    return changePi(arr,count)\n",
        "print(changePi(\"pip\"))\n",
        "print(changePi(\"xpix\"))\n",
        "print(changePi(\"xxpixxpipiyyaib\"))\n",
        "\n"
      ]
    },
    {
      "cell_type": "markdown",
      "metadata": {
        "id": "i0WvY2pC4FIK"
      },
      "source": []
    },
    {
      "cell_type": "markdown",
      "metadata": {
        "id": "Wq3wEhYJote-"
      },
      "source": [
        "--------------------6------------------"
      ]
    },
    {
      "cell_type": "code",
      "execution_count": null,
      "metadata": {
        "colab": {
          "base_uri": "https://localhost:8080/"
        },
        "id": "ZO8c-jjzos0A",
        "outputId": "7cd3890f-44f3-4318-8aef-607aba6e75ac"
      },
      "outputs": [
        {
          "output_type": "stream",
          "name": "stdout",
          "text": [
            "4\n"
          ]
        }
      ],
      "source": [
        "def array11(arr, n) :\n",
        "    if arr==[11]:\n",
        "        n+=1\n",
        "        return n\n",
        "    if arr[0]==11 :\n",
        "        n+=1\n",
        "        return array11(arr[1::], n)\n",
        "    return array11(arr[1::],n)\n",
        "print(array11([11, 112, 11,11,12,11], 0))"
      ]
    },
    {
      "cell_type": "markdown",
      "metadata": {
        "id": "fq07Man4qBLq"
      },
      "source": [
        "-------------7-------------\n"
      ]
    },
    {
      "cell_type": "code",
      "execution_count": null,
      "metadata": {
        "colab": {
          "base_uri": "https://localhost:8080/"
        },
        "id": "pRMgk9iphjUM",
        "outputId": "e58f4fe1-2412-4bfc-e2dd-68eee3bf7fe9"
      },
      "outputs": [
        {
          "output_type": "stream",
          "name": "stdout",
          "text": [
            "a*a*a*a*a\n"
          ]
        }
      ],
      "source": [
        "def pairStar(arr,count=0):\n",
        "    if arr==None:\n",
        "        return arr\n",
        "    if count==len(arr)-1:\n",
        "        return arr\n",
        "    if arr[count]==arr[count+1] :\n",
        "        x=arr[0:count+1]\n",
        "        y=arr[count+1::]\n",
        "        arr= x +'*'+y\n",
        "        count+=1\n",
        "        return pairStar(arr, count)\n",
        "    count+=1\n",
        "    return pairStar(arr,count)\n",
        "print(pairStar(\"aaaaa\"))"
      ]
    },
    {
      "cell_type": "markdown",
      "metadata": {
        "id": "ZrErV8W0qDXY"
      },
      "source": [
        "--------------------------8---------------------"
      ]
    },
    {
      "cell_type": "code",
      "execution_count": null,
      "metadata": {
        "colab": {
          "base_uri": "https://localhost:8080/"
        },
        "id": "leJMdlr1opKp",
        "outputId": "5350f572-1dbb-449e-cb8f-f0c79eacedbf"
      },
      "outputs": [
        {
          "output_type": "stream",
          "name": "stdout",
          "text": [
            "2\n"
          ]
        }
      ],
      "source": [
        "def countAbc(arr) :\n",
        "    if arr==\"abc\":\n",
        "        return 1\n",
        "    if (len(arr))<3 :\n",
        "        return 0\n",
        "    if arr[0]=='a'and arr[1]=='b' and arr[2]=='c':\n",
        "        return 1 + countAbc(arr[1::])\n",
        "    return countAbc(arr[1::])\n",
        "print(countAbc(\"abcxxxxxxxabcxxxx\"))\n"
      ]
    },
    {
      "cell_type": "markdown",
      "metadata": {
        "id": "3h0BuLCV6d3J"
      },
      "source": [
        "--------------9-------------\n"
      ]
    },
    {
      "cell_type": "code",
      "execution_count": null,
      "metadata": {
        "colab": {
          "base_uri": "https://localhost:8080/"
        },
        "id": "_65P4i0v6dbq",
        "outputId": "681fa753-bc0c-4ff5-c697-cdab750d3643"
      },
      "outputs": [
        {
          "output_type": "stream",
          "name": "stdout",
          "text": [
            "4\n"
          ]
        }
      ],
      "source": [
        "def countHi2(arr) :\n",
        "    if arr=='hi' :\n",
        "        return 1\n",
        "    if len(arr)<3 :\n",
        "        return 0\n",
        "    if arr[0]!='x' and arr[1]=='h' and arr[2]=='i' :\n",
        "        return 1+countHi2(arr[1::])\n",
        "    return countHi2(arr[1::])\n",
        "print(countHi2('xhiahibhichi'))"
      ]
    },
    {
      "cell_type": "markdown",
      "metadata": {
        "id": "osQNUmdCK1KZ"
      },
      "source": [
        "--------------10--------------\n"
      ]
    },
    {
      "cell_type": "code",
      "execution_count": null,
      "metadata": {
        "colab": {
          "base_uri": "https://localhost:8080/"
        },
        "id": "OAfcXsWmK2a2",
        "outputId": "46f742a1-2b76-49ed-f77e-ea0fff7f0e41"
      },
      "outputs": [
        {
          "output_type": "stream",
          "name": "stdout",
          "text": [
            "3\n"
          ]
        }
      ],
      "source": [
        "def strCount(arr,sub):\n",
        "    if len(arr)<len(sub):\n",
        "        return 0\n",
        "    if arr[:len(sub)]==sub:\n",
        "        return 1+strCount(arr[1::],sub)\n",
        "    if arr[:len(sub)] != sub:\n",
        "        return strCount(arr[1::],sub)\n",
        "print(strCount(\"catcowcatcat\",\"cat\"))"
      ]
    },
    {
      "cell_type": "markdown",
      "metadata": {
        "id": "R-IAh7fsMsem"
      },
      "source": [
        "------------11-----------"
      ]
    },
    {
      "cell_type": "code",
      "execution_count": null,
      "metadata": {
        "colab": {
          "base_uri": "https://localhost:8080/"
        },
        "id": "HO0zsB_UMsDt",
        "outputId": "c1823fd2-80ef-4adb-e125-1fe6a2b95bb8"
      },
      "outputs": [
        {
          "output_type": "stream",
          "name": "stdout",
          "text": [
            "4\n"
          ]
        }
      ],
      "source": [
        "def bunnyEars2(n):\n",
        "    if n==1:\n",
        "        return 2\n",
        "    return 2+ bunnyEars2(n-1)\n",
        "print(bunnyEars2(2))"
      ]
    },
    {
      "cell_type": "markdown",
      "metadata": {
        "id": "fv7Pr5kBTfBU"
      },
      "source": [
        "-----------12----------"
      ]
    },
    {
      "cell_type": "code",
      "execution_count": null,
      "metadata": {
        "colab": {
          "base_uri": "https://localhost:8080/"
        },
        "id": "WETyU0SZRzhI",
        "outputId": "75c32bac-3fc2-4764-9720-5ffaea4be4c5"
      },
      "outputs": [
        {
          "output_type": "stream",
          "name": "stdout",
          "text": [
            "6\n"
          ]
        }
      ],
      "source": [
        "def triangle(n) :\n",
        "    if n==0:\n",
        "        return 0\n",
        "    return n+ triangle(n-1)\n",
        "print(triangle(3))"
      ]
    },
    {
      "cell_type": "markdown",
      "metadata": {
        "id": "fCN7Mh_oUDal"
      },
      "source": [
        "-------------13------------"
      ]
    },
    {
      "cell_type": "code",
      "execution_count": null,
      "metadata": {
        "colab": {
          "base_uri": "https://localhost:8080/"
        },
        "id": "OLMnL4t0Sdja",
        "outputId": "9c2f3408-908d-4d3f-dd53-4eaa43504e71"
      },
      "outputs": [
        {
          "output_type": "stream",
          "name": "stdout",
          "text": [
            "sindid\n"
          ]
        }
      ],
      "source": [
        "def noX(arr,s='') :\n",
        "    if len(arr)==0:\n",
        "        return \"\"\n",
        "    if arr[0]=='x' or arr[0]=='X' :\n",
        "        return noX(arr[1::])\n",
        "    s=str(arr[0])\n",
        "    return s + noX(arr[1::],s)\n",
        "print(noX('xxxsxxixxnxxdxxixxd'))"
      ]
    },
    {
      "cell_type": "markdown",
      "metadata": {
        "id": "lVnbOjtmWSgx"
      },
      "source": [
        "-----------14-----------"
      ]
    },
    {
      "cell_type": "code",
      "execution_count": null,
      "metadata": {
        "colab": {
          "base_uri": "https://localhost:8080/"
        },
        "id": "Rv_4OWWLUtl9",
        "outputId": "f3f06be7-c713-4068-c956-eeaf258be476"
      },
      "outputs": [
        {
          "output_type": "stream",
          "name": "stdout",
          "text": [
            "False\n"
          ]
        }
      ],
      "source": [
        "def checker(arr,n,flag=False) :\n",
        "    if len(arr)==0:\n",
        "        return\n",
        "    if arr[0] / n ==10:\n",
        "        flag=True\n",
        "    return checker(arr[1::],n,flag)\n",
        "\n",
        "def array220(arr,n, flag=False) :\n",
        "    if n==0:\n",
        "        n=arr[0]\n",
        "    if len(arr)==0:\n",
        "        return flag\n",
        "    if arr[0] / n ==10:\n",
        "        flag=True\n",
        "    checker(arr,arr[0])\n",
        "    if checker==True:\n",
        "        flag=True\n",
        "    if checker==False:\n",
        "        flag=False\n",
        "    return array220(arr[1::],arr[0],flag)\n",
        "\n",
        "print(array220([1,3,20],0))"
      ]
    },
    {
      "cell_type": "markdown",
      "metadata": {
        "id": "xd1ArFOnkizf"
      },
      "source": [
        "----------15---------\n"
      ]
    },
    {
      "cell_type": "code",
      "execution_count": null,
      "metadata": {
        "colab": {
          "base_uri": "https://localhost:8080/"
        },
        "id": "kNv7Q7xckk3e",
        "outputId": "9e1b1b81-36bd-42de-eee5-0b4dc42dfd85"
      },
      "outputs": [
        {
          "output_type": "stream",
          "name": "stdout",
          "text": [
            "sindidxxxxxxxx\n"
          ]
        }
      ],
      "source": [
        "def addx(n,o):\n",
        "    if n==0:\n",
        "        return o\n",
        "    o+='x'\n",
        "    n-=1\n",
        "    return addx(n,o)\n",
        "def endX(arr,o='',count=0) :\n",
        "\n",
        "    if len(arr)==0:\n",
        "        x=addx(count,o)\n",
        "        return x\n",
        "    if arr[0]!='x':\n",
        "        o+=str(arr[0])\n",
        "        return endX(arr[1::],o,count)\n",
        "    count+=1\n",
        "    return endX(arr[1::],o,count)\n",
        "\n",
        "print(endX('xsxixnxdxixdxx'))"
      ]
    },
    {
      "cell_type": "markdown",
      "metadata": {
        "id": "mCOPMgeToKK6"
      },
      "source": [
        "----------16--------"
      ]
    },
    {
      "cell_type": "code",
      "execution_count": null,
      "metadata": {
        "colab": {
          "base_uri": "https://localhost:8080/"
        },
        "id": "oWZFe-VpntZP",
        "outputId": "4d30544a-d009-4abb-f55d-04b25d17f0d2"
      },
      "outputs": [
        {
          "output_type": "stream",
          "name": "stdout",
          "text": [
            "5\n"
          ]
        }
      ],
      "source": [
        "def count11(arr):\n",
        "    if len(arr)<2:\n",
        "        return 0\n",
        "    if arr[0]=='1' and arr[1]=='1' :\n",
        "        return 1+ count11(arr[2::])\n",
        "    return count11(arr[1::])\n",
        "print(count11('1111abcand11dfbdf11111'))"
      ]
    },
    {
      "cell_type": "markdown",
      "metadata": {
        "id": "sQJGOwySpLVV"
      },
      "source": [
        "--------17--------"
      ]
    },
    {
      "cell_type": "code",
      "execution_count": null,
      "metadata": {
        "colab": {
          "base_uri": "https://localhost:8080/"
        },
        "id": "6u6Euv1-o0Ue",
        "outputId": "c2470568-32d2-4e84-d430-1c72dd6a1b9d"
      },
      "outputs": [
        {
          "output_type": "stream",
          "name": "stdout",
          "text": [
            "(abbbb)\n"
          ]
        }
      ],
      "source": [
        "def parenBit(arr,ot='',flag=False):\n",
        "    # print(arr,ot,flag)\n",
        "    if arr[0]=='(':\n",
        "        flag=True\n",
        "        ot+=str(arr[0])\n",
        "        # print(ot)\n",
        "        return parenBit(arr[1::],ot,flag)\n",
        "    if arr[0]==')' :\n",
        "        ot+=str(arr[0])\n",
        "        return ot\n",
        "    if flag==True:\n",
        "        ot+=str(arr[0])\n",
        "        return parenBit(arr[1::],ot,flag)\n",
        "    if flag==False:\n",
        "        return parenBit(arr[1::],ot,flag)\n",
        "\n",
        "print(parenBit(\"xysya(abbbb)11223\"))\n"
      ]
    },
    {
      "cell_type": "markdown",
      "metadata": {
        "id": "lC0PfqtXvk6J"
      },
      "source": [
        "----------18-----------\n"
      ]
    },
    {
      "cell_type": "code",
      "execution_count": null,
      "metadata": {
        "colab": {
          "base_uri": "https://localhost:8080/"
        },
        "id": "-U-_9cGyvmOi",
        "outputId": "aa064591-3e25-4233-b3a7-0d4b08093095"
      },
      "outputs": [
        {
          "output_type": "stream",
          "name": "stdout",
          "text": [
            "True\n"
          ]
        }
      ],
      "source": [
        "def strCopies(arr,sub,n,flag=False,count=0):\n",
        "    if count==n:\n",
        "        flag=True\n",
        "    if len(arr)<len(sub):\n",
        "        return flag\n",
        "    if arr[:len(sub)]==sub:\n",
        "        count+=1\n",
        "        return strCopies(arr[len(sub)::],sub,n,flag,count)\n",
        "    flag=False\n",
        "    return strCopies(arr[len(sub)::],sub,n,flag,count)\n",
        "print(strCopies('cowcatcatcow','cow',1))\n"
      ]
    }
  ],
  "metadata": {
    "colab": {
      "provenance": []
    },
    "kernelspec": {
      "display_name": "Python 3",
      "name": "python3"
    },
    "language_info": {
      "name": "python"
    }
  },
  "nbformat": 4,
  "nbformat_minor": 0
}